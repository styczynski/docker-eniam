{
 "cells": [
  {
   "cell_type": "code",
   "execution_count": null,
   "metadata": {},
   "outputs": [],
   "source": [
    "# !pip install opencv-python\n",
    "# !pip install camelot-py\n",
    "# !pip install wand\n",
    "import os\n",
    "import sys\n",
    "module_path = os.path.abspath(os.path.join('..'))\n",
    "if module_path not in sys.path:\n",
    "    sys.path.append(module_path)\n",
    "\n",
    "from eniam import Eniam\n",
    "\n",
    "dom_result = Eniam(\"\"\"\n",
    "@PHRASE_NAMES\n",
    "  ip nom acc k m\n",
    "  \n",
    "@WEIGHTS\n",
    "\n",
    "@LEXICON\n",
    "lemma=kot,case=nom:      k;\n",
    "lemma=goni:              (ip\\\\nom)/acc;\n",
    "lemma=mysz,case=acc:     m;\n",
    "\n",
    "\"\"\").dom(\"kot goni mysz.\")"
   ]
  },
  {
   "cell_type": "code",
   "execution_count": 2,
   "metadata": {},
   "outputs": [
    {
     "data": {
      "text/plain": [
       "['<!DOCTYPE HTML PUBLIC \"-//W3C//DTD HTML 4.01 Transitional//EN\">\\n',\n",
       " '<html>\\n',\n",
       " '  <head>\\n',\n",
       " '\\t<META HTTP-EQUIV=\"CONTENT-TYPE\" CONTENT=\"text/html; charset=utf8\">\\n',\n",
       " '\\t<TITLE>ENIAM: Kategorialny Parser Składniowo-Semantyczny</TITLE>\\n',\n",
       " '\\t<META HTTP-EQUIV=\"Content-Language\" CONTENT=\"pl\">\\n',\n",
       " '  </head>\\n',\n",
       " '\\n',\n",
       " '  <body>\\n',\n",
       " ' <center>\\n',\n",
       " '<table border=3><tr><td>Raw</td><td>Ala ma kota.\\r<BR>\\r<BR>\\r<BR>\\r</td></tr>\\n',\n",
       " '<tr><td>Struct</td><td><table border=2><tr><td>Raw</td><td>Ala ma kota.</td></tr>\\n',\n",
       " '<tr><td>Struct</td><td>id=111 beg=100 len=1200 next=1300<BR><table border=1><tr><td>Raw</td><td>Ala ma kota.</td></tr>\\n',\n",
       " '<tr><td>ENIAM</td><td><font color=\"red\">not_parsed</font>: paths_size=86 chart_size=473\\n',\n",
       " '<BR>OVERLAP{} &lt;root&gt; BracketSet {X IMIĘ} X X BracketSet s\\n',\n",
       " '<BR><A HREF=\"E_3_chart_selection.pdf\">Chart 3 Selection</A>\\n',\n",
       " '</td></tr></table></td></tr></table></td></tr></table><BR>\\n',\n",
       " '</center>\\n',\n",
       " '  </body>\\n',\n",
       " '</html>\\n']"
      ]
     },
     "execution_count": 2,
     "metadata": {},
     "output_type": "execute_result"
    }
   ],
   "source": [
    "dom_result.html()"
   ]
  },
  {
   "cell_type": "code",
   "execution_count": null,
   "metadata": {},
   "outputs": [],
   "source": []
  }
 ],
 "metadata": {
  "kernelspec": {
   "display_name": "Python 3",
   "language": "python",
   "name": "python3"
  },
  "language_info": {
   "codemirror_mode": {
    "name": "ipython",
    "version": 3
   },
   "file_extension": ".py",
   "mimetype": "text/x-python",
   "name": "python",
   "nbconvert_exporter": "python",
   "pygments_lexer": "ipython3",
   "version": "3.7.5"
  }
 },
 "nbformat": 4,
 "nbformat_minor": 2
}
